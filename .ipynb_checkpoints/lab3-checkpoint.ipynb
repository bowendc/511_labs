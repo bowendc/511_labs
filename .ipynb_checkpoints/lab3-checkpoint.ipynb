{
 "cells": [
  {
   "attachments": {},
   "cell_type": "markdown",
   "metadata": {},
   "source": [
    "# Scatterplots, Correlation, and Regression\n",
    "\n",
    "In this lab, we're going to cover some basic modeling, data visualization, and reporting functions. \n",
    "\n",
    "To begin, install the **{modelsummary}** package (if needed) and load it along with **{tidyverse}**.\n",
    "\n"
   ]
  },
  {
   "cell_type": "code",
   "execution_count": null,
   "metadata": {
    "vscode": {
     "languageId": "r"
    }
   },
   "outputs": [],
   "source": [
    "install.packages(\"modelsummary\") # this will help us generate attractive regression output later"
   ]
  },
  {
   "cell_type": "code",
   "execution_count": 40,
   "metadata": {
    "vscode": {
     "languageId": "r"
    }
   },
   "outputs": [],
   "source": [
    "library(tidyverse)\n",
    "library(modelsummary)"
   ]
  },
  {
   "attachments": {},
   "cell_type": "markdown",
   "metadata": {},
   "source": [
    "## Simulated data\n",
    "\n",
    "Let's start by simulating some fake data. Simulated data has wonderful properties for learning regression and other methods, namely, we can control the extent to which our data aligns with the assumptions utilized by the estimator. We also know the population parameters ($b$ and $se$) because we created the data.\n",
    "\n",
    "Start with a random variable, *x*. \n"
   ]
  },
  {
   "cell_type": "code",
   "execution_count": null,
   "metadata": {
    "vscode": {
     "languageId": "r"
    }
   },
   "outputs": [],
   "source": [
    "# run the set.seed() function if you would like to be able to reproduce \n",
    "# the results I have below.\n",
    "\n",
    "set.seed(5)\n",
    "\n",
    "# this function draws 100 random values from a uniform distribution between 0 and 50\n",
    "\n",
    "xvar <- runif(n = 100, min = 0, max = 50)\n",
    "\n",
    "# now create the outcome variable yvar as a linear function of xvar.\n",
    "# where does the rest of this equation come from?\n",
    "\n",
    "yvar <- 32 - 1.2*xvar + rnorm(n = 100, mean = 0, sd = 30)\n",
    "\n",
    "# combine new vectors into a data frame using data.frame or tibble\n",
    "# alternatively, we could have used the cbind() function \"column bind\"\n",
    "\n",
    "fake <- tibble(xvar, yvar)\n",
    "\n",
    "# look at your data: \n",
    "head(fake)"
   ]
  },
  {
   "attachments": {},
   "cell_type": "markdown",
   "metadata": {},
   "source": [
    "## A basic scatterplot\n",
    "\n",
    "We can use the *plot()* function in base R to take a quick look at the relationship between *xvar* and *yvar*."
   ]
  },
  {
   "cell_type": "code",
   "execution_count": null,
   "metadata": {
    "vscode": {
     "languageId": "r"
    }
   },
   "outputs": [],
   "source": [
    "plot(fake$xvar, fake$yvar) # note that x variable goes first, y variable second"
   ]
  },
  {
   "attachments": {},
   "cell_type": "markdown",
   "metadata": {},
   "source": [
    "This plot matches what we told R we wanted - a predictor variable between 0 and 50, an outcome variable that is a linear function of x, and a negative relationship between the two variables with substantial random error. \n",
    "\n",
    "## Covariance and Correlation\n",
    "\n",
    "The *cov()* and *cor()* functions calculate covariance and correlation, respectively. *cor.test()* provides some additional output for hypothesis testing. "
   ]
  },
  {
   "cell_type": "code",
   "execution_count": null,
   "metadata": {
    "vscode": {
     "languageId": "r"
    }
   },
   "outputs": [],
   "source": [
    "# get the covariance between xvar and yvar\n",
    "\n",
    "cov(fake$xvar, fake$yvar) \n",
    "\n",
    "# correlation\n",
    "\n",
    "cor(fake$xvar, fake$yvar) # default method is pearson's r\n",
    "\n",
    "# correlation + significance test \n",
    "\n",
    "cor.test(fake$xvar, fake$yvar)"
   ]
  },
  {
   "attachments": {},
   "cell_type": "markdown",
   "metadata": {},
   "source": [
    "## Regression \n",
    "\n",
    "The *lm* function (for **l**inear **m**odels) in base R can be used to run classic OLS regression models. Note that by default, running *lm* does not generate very useful output in the console. We are better off storing regression model results and then calling them up in other functions, like *summary()*. We can also use the **{modelsummary}** package for nicely formatted default output."
   ]
  },
  {
   "cell_type": "code",
   "execution_count": null,
   "metadata": {
    "vscode": {
     "languageId": "r"
    }
   },
   "outputs": [],
   "source": [
    "lm(fake$yvar ~ fake$xvar)"
   ]
  },
  {
   "attachments": {},
   "cell_type": "markdown",
   "metadata": {},
   "source": [
    "This output is limited. Now try:"
   ]
  },
  {
   "cell_type": "code",
   "execution_count": null,
   "metadata": {
    "vscode": {
     "languageId": "r"
    }
   },
   "outputs": [],
   "source": [
    "m1 <- lm(fake$yvar ~ fake$xvar)\n",
    "\n",
    "# or you could do:\n",
    "m1 <- lm(yvar ~ xvar, data = fake)\n",
    "\n",
    "summary(m1)"
   ]
  },
  {
   "attachments": {},
   "cell_type": "markdown",
   "metadata": {},
   "source": [
    "That is better. We actually get uncertainty estimates and significance tests along with our coefficient estimates.\n",
    "\n",
    "Now try out the *modelsummary()* function. (Check out the help file for more info on various arguments you can utilize)."
   ]
  },
  {
   "cell_type": "code",
   "execution_count": 46,
   "metadata": {
    "vscode": {
     "languageId": "r"
    }
   },
   "outputs": [
    {
     "data": {
      "text/html": [
       "<table class=\"table\" style=\"width: auto !important; margin-left: auto; margin-right: auto;\">\n",
       " <thead>\n",
       "  <tr>\n",
       "   <th style=\"text-align:left;\">   </th>\n",
       "   <th style=\"text-align:center;\"> Model 1 </th>\n",
       "  </tr>\n",
       " </thead>\n",
       "<tbody>\n",
       "  <tr>\n",
       "   <td style=\"text-align:left;\"> (Intercept) </td>\n",
       "   <td style=\"text-align:center;\"> 29.091 </td>\n",
       "  </tr>\n",
       "  <tr>\n",
       "   <td style=\"text-align:left;\">  </td>\n",
       "   <td style=\"text-align:center;\"> (5.794) </td>\n",
       "  </tr>\n",
       "  <tr>\n",
       "   <td style=\"text-align:left;\"> xvar </td>\n",
       "   <td style=\"text-align:center;\"> −1.108 </td>\n",
       "  </tr>\n",
       "  <tr>\n",
       "   <td style=\"text-align:left;box-shadow: 0px 1px\">  </td>\n",
       "   <td style=\"text-align:center;box-shadow: 0px 1px\"> (0.193) </td>\n",
       "  </tr>\n",
       "  <tr>\n",
       "   <td style=\"text-align:left;\"> Num.Obs. </td>\n",
       "   <td style=\"text-align:center;\"> 100 </td>\n",
       "  </tr>\n",
       "  <tr>\n",
       "   <td style=\"text-align:left;\"> R2 </td>\n",
       "   <td style=\"text-align:center;\"> 0.251 </td>\n",
       "  </tr>\n",
       "  <tr>\n",
       "   <td style=\"text-align:left;\"> R2 Adj. </td>\n",
       "   <td style=\"text-align:center;\"> 0.244 </td>\n",
       "  </tr>\n",
       "  <tr>\n",
       "   <td style=\"text-align:left;\"> AIC </td>\n",
       "   <td style=\"text-align:center;\"> 962.0 </td>\n",
       "  </tr>\n",
       "  <tr>\n",
       "   <td style=\"text-align:left;\"> BIC </td>\n",
       "   <td style=\"text-align:center;\"> 969.8 </td>\n",
       "  </tr>\n",
       "  <tr>\n",
       "   <td style=\"text-align:left;\"> RMSE </td>\n",
       "   <td style=\"text-align:center;\"> 28.82 </td>\n",
       "  </tr>\n",
       "</tbody>\n",
       "</table>"
      ]
     },
     "metadata": {},
     "output_type": "display_data"
    }
   ],
   "source": [
    "# the output  = \"jupyter\" format is for visualization in this notebook. \n",
    "# you can skip the argument altogether or choose \"html\". \n",
    "modelsummary(m1, output = \"jupyter\") "
   ]
  },
  {
   "attachments": {},
   "cell_type": "markdown",
   "metadata": {},
   "source": [
    "## Linear fitted regression lines with scatterplots.\n",
    "\n",
    "Let's revisit our original scatterplot:"
   ]
  },
  {
   "cell_type": "code",
   "execution_count": null,
   "metadata": {
    "vscode": {
     "languageId": "r"
    }
   },
   "outputs": [],
   "source": [
    "plot1 <- plot(fake$xvar, fake$yvar)"
   ]
  },
  {
   "attachments": {},
   "cell_type": "markdown",
   "metadata": {},
   "source": [
    "## **ggplot2**\n",
    "\n",
    "*ggplot()* is a data visualization system built into **tidyverse**. It is very powerful, but as in true R fashion, clunky and frankly weird. Let's learn just a bit of basics by replicating our scatterplot. \n",
    "\n",
    "We'll do a bunch in ggplot, so it is better to start learning the code structure now. Check out these resources:\n",
    "\n",
    "1. R for Data Science, [data viz chapter](https://r4ds.hadley.nz/data-visualize.html). \n",
    "2. [ggplot reference guide and cheat sheets](https://ggplot2.tidyverse.org/index.html).\n",
    "3. [R for Graphics Cookbook](https://r-graphics.org/) (with some simple examples).\n",
    "\n",
    "First, create an empty canvas for your graph using the *ggplot()* function. We'll specify the data argument to select the data.frame. "
   ]
  },
  {
   "cell_type": "code",
   "execution_count": null,
   "metadata": {
    "vscode": {
     "languageId": "r"
    }
   },
   "outputs": [],
   "source": [
    "ggplot(data = fake)"
   ]
  },
  {
   "attachments": {},
   "cell_type": "markdown",
   "metadata": {},
   "source": [
    "Good. The function worked. But there isn't anything there! That's because we need to \"map\" elements of the graph to this canvas. "
   ]
  },
  {
   "cell_type": "code",
   "execution_count": null,
   "metadata": {
    "vscode": {
     "languageId": "r"
    }
   },
   "outputs": [],
   "source": [
    "# I think the \"mapping\" and \"aes\" names are strange. \"aes\" stands \n",
    "# for \"aesthetics\", which might make a little more sense.\n",
    "\n",
    "ggplot(data = fake, mapping = aes(x = xvar, y = yvar))\n"
   ]
  },
  {
   "attachments": {},
   "cell_type": "markdown",
   "metadata": {},
   "source": [
    "Also good. Now we have a graph with x and y dimensions, appropriately scaled to our two variables. But still no data! We can add them with various *geom_* calls to this canvas. You might find it useful to store this original canvas and then add stuff to it in additional commands, or you could do the whole thing in one long run-on command. "
   ]
  },
  {
   "cell_type": "code",
   "execution_count": null,
   "metadata": {
    "vscode": {
     "languageId": "r"
    }
   },
   "outputs": [],
   "source": [
    "p1 <- ggplot(data = fake, mapping = aes(x = xvar, y = yvar))\n",
    "\n",
    "p1 + geom_point()"
   ]
  },
  {
   "cell_type": "code",
   "execution_count": null,
   "metadata": {
    "vscode": {
     "languageId": "r"
    }
   },
   "outputs": [],
   "source": [
    "# alpha adjusts the transparency, size adjusts the size of the dot,\n",
    "# and color does, well, you see it. you can also type color() in \n",
    "# the console to see the names R knows about it. \n",
    "\n",
    "# modern R GUIs will give you a little thumbnail of the color. Nice!\n",
    "p1 + geom_point(alpha = .4, size = 3, color = \"steelblue\")"
   ]
  },
  {
   "attachments": {},
   "cell_type": "markdown",
   "metadata": {},
   "source": [
    "Now, let's add in our simple regression line using the *geom_smooth()* function and save it as p2. "
   ]
  },
  {
   "cell_type": "code",
   "execution_count": null,
   "metadata": {
    "vscode": {
     "languageId": "r"
    }
   },
   "outputs": [],
   "source": [
    "p2 <- p1 + geom_point(alpha = .4, size = 3, color = \"steelblue\") +\n",
    "       geom_smooth(method = \"lm\", fill=\"grey40\", color = \"black\", alpha = .3) \n",
    "\n",
    "# to view, just type: \n",
    "p2        "
   ]
  },
  {
   "attachments": {},
   "cell_type": "markdown",
   "metadata": {},
   "source": [
    "How does our linear fitted regression line match up with smoother function that doesn't force a straight line? They should be fairly similar in this case because we made y a linear function of x. But anyway, let's super-impose a loess smoother on top of our existing *p2* plot and add some labels and a title. "
   ]
  },
  {
   "cell_type": "code",
   "execution_count": null,
   "metadata": {
    "vscode": {
     "languageId": "r"
    }
   },
   "outputs": [],
   "source": [
    "p2 + geom_smooth(method = \"loess\", alpha = .2, fill = \"orange\", color = \"orange\") +\n",
    "    labs(\n",
    "        title = \"Scatterplot and Regression Example\",\n",
    "        x = \"Predictor (fake)\",\n",
    "        y = \"Outcome (fake)\"\n",
    "    ) +\n",
    "    theme_light()"
   ]
  }
 ],
 "metadata": {
  "kernelspec": {
   "display_name": "R",
   "language": "R",
   "name": "ir"
  },
  "language_info": {
   "codemirror_mode": "r",
   "file_extension": ".r",
   "mimetype": "text/x-r-source",
   "name": "R",
   "pygments_lexer": "r",
   "version": "4.2.0"
  },
  "orig_nbformat": 4,
  "vscode": {
   "interpreter": {
    "hash": "369f2c481f4da34e4445cda3fffd2e751bd1c4d706f27375911949ba6bb62e1c"
   }
  }
 },
 "nbformat": 4,
 "nbformat_minor": 2
}
