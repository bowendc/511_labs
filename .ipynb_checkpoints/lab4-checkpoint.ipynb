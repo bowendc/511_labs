{
 "cells": [
  {
   "cell_type": "markdown",
   "metadata": {},
   "source": [
    "# Matching\n",
    "\n"
   ]
  },
  {
   "cell_type": "markdown",
   "metadata": {},
   "source": [
    "Matching methods are designed to generate estimates of the ATE or (much more commonly) the ATT by balancing, pruning and weighting your data. Matching methods are data-greedy; they work best when you have lots of observations to choose from. Typically, treated observations (those participating in the policy) will be matched with untreated observations. The untreated observations are thus used to provide the counterfactual: what would have been the case for our treated observations if they had not been treated. Or that, at least, is the idea.\n",
    "\n",
    "Let's install necessary packages (if needed) and load them: "
   ]
  },
  {
   "cell_type": "code",
   "execution_count": null,
   "metadata": {
    "vscode": {
     "languageId": "r"
    }
   },
   "outputs": [],
   "source": [
    "install.packages(c(\n",
    "   'tidyverse',    # for data wrangling\n",
    "   'faux',         # for creating some fake data\n",
    "   'modelsummary', # for regression tables\n",
    "   'MatchIt'       # for matching\n",
    "))\n",
    "\n",
    "library(tidyverse)\n",
    "library(modelsummary)\n",
    "library(faux)\n",
    "library(MatchIt)"
   ]
  },
  {
   "cell_type": "markdown",
   "metadata": {},
   "source": [
    "## Setup"
   ]
  },
  {
   "cell_type": "markdown",
   "metadata": {},
   "source": [
    "Let's create some new data using the `faux` package. The package lets us draw random variables that are correlated with each other. The below function draws two variables with different scales from a multivariate normal distribution that are positively correlated at $r=.40$. "
   ]
  },
  {
   "cell_type": "code",
   "execution_count": null,
   "metadata": {
    "vscode": {
     "languageId": "r"
    }
   },
   "outputs": [],
   "source": [
    "df1 <- rnorm_multi( n = 1000,\n",
    "                    mu = c(7, 51),  # the means of the two vars\n",
    "                    sd = c(3, 20),  # the standard deviations\n",
    "                    r = .40,        # the correlation between the vars\n",
    "                    varnames = c(\"xvar1\", \n",
    "                                 \"xvar2\"))"
   ]
  },
  {
   "cell_type": "markdown",
   "metadata": {},
   "source": [
    "Now we can create a treatment variable. Don't worry about the details here, but we are drawing a treatment variable, `treat` from the binomial distribution where the probability that the observation is treated (meaning: equals 1 rather than 0) is a function of our two condictioning variables `xvar1` and `xvar2` plus some random noise."
   ]
  },
  {
   "cell_type": "code",
   "execution_count": null,
   "metadata": {
    "vscode": {
     "languageId": "r"
    }
   },
   "outputs": [],
   "source": [
    "df1$treat <- rbinom(n = 1000, \n",
    "                    size = 1, \n",
    "                    prob = plogis(-16 + 1.2*df1$xvar1 + .08*df1$xvar2 + \n",
    "                                    rnorm(1000, 0, 3)))"
   ]
  },
  {
   "cell_type": "markdown",
   "metadata": {},
   "source": [
    "Now we can create our outcome variable `yvar` as a linear function of our two conditioning variables and our treatment."
   ]
  },
  {
   "cell_type": "code",
   "execution_count": null,
   "metadata": {
    "vscode": {
     "languageId": "r"
    }
   },
   "outputs": [],
   "source": [
    "df1$yvar <- -4 - 6.1*df1$treat + \n",
    "                4*df1$xvar1 + \n",
    "                .35*df1$xvar2 +\n",
    "                rnorm(1000, 0, 5)"
   ]
  },
  {
   "cell_type": "markdown",
   "metadata": {},
   "source": [
    "We clearly have selection bias. Our *X*s impact program participation (treatment). What happens if we simply examine the difference in outcomes based on observed treatment status?"
   ]
  },
  {
   "cell_type": "code",
   "execution_count": null,
   "metadata": {
    "vscode": {
     "languageId": "r"
    }
   },
   "outputs": [],
   "source": [
    "df1 |>  group_by(treat) |> \n",
    "        summarize(\"mean of y\" = mean(yvar)) |>\n",
    "        pivot_wider(names_from = treat,\n",
    "                   values_from = `mean of y`) |>\n",
    "        mutate(\"diff in means\" = `1` - `0`)"
   ]
  },
  {
   "cell_type": "markdown",
   "metadata": {},
   "source": [
    "Yikes. That isn't good at all. Recall that above, the ATE for `treat` is **-6.1**. We're *way* off in our estimate and the estimate is in the wrong direction. Why?"
   ]
  },
  {
   "cell_type": "markdown",
   "metadata": {},
   "source": [
    "One thing we could is use regression to condition on our confounding variables. `m1`-`m3` below all suffer from omitted variable bias. "
   ]
  },
  {
   "cell_type": "code",
   "execution_count": null,
   "metadata": {
    "vscode": {
     "languageId": "r"
    }
   },
   "outputs": [],
   "source": [
    "m1 <- lm(yvar ~ treat, data = df1)\n",
    "m2 <- lm(yvar ~ treat + xvar1, data = df1)\n",
    "m3 <- lm(yvar ~ treat + xvar2, data = df1)\n",
    "m4 <- lm(yvar ~ treat + xvar1 + xvar2, data = df1)\n",
    "\n",
    "modelsummary(list(m1, m2, m3, m4), out = \"jupyter\")"
   ]
  },
  {
   "cell_type": "markdown",
   "metadata": {},
   "source": [
    "## MatchIt\n"
   ]
  },
  {
   "cell_type": "markdown",
   "metadata": {},
   "source": [
    "The `MatchIt` package offers a number of matching methods. Using these methods is (at least) a two-step process. First, use `matchit()` to generate a matchit object. This is function in which you will describe which the covariates that are driving treatment status, the matching methods to use, the number of matches, and the distance method to utilize with approximate matching methods. \n",
    "\n",
    "The `summary()` function will display balance statistics."
   ]
  },
  {
   "cell_type": "code",
   "execution_count": null,
   "metadata": {
    "vscode": {
     "languageId": "r"
    }
   },
   "outputs": [],
   "source": [
    "m.obj <- matchit(treat ~ xvar1 + xvar2, \n",
    "                    data = df1, \n",
    "                    method = \"nearest\", # try \"cem\" with the cutpoints argument \n",
    "                    ratio = 1,          # try 2\n",
    "                    distance = \"glm\")   # try \"mahalanobis\"\n",
    "summary(m.obj)"
   ]
  },
  {
   "cell_type": "markdown",
   "metadata": {},
   "source": [
    "The `match.data()` function will allow you to write the matched observations (with weigths and pairs/grouping information) to a new data frame for analysis.\n",
    "\n",
    "Let's see if we get a more accurate estimate of the effect of the treatment on the outcome using a simple difference in means with the \"pruned\" matched sample. "
   ]
  },
  {
   "cell_type": "code",
   "execution_count": null,
   "metadata": {
    "vscode": {
     "languageId": "r"
    }
   },
   "outputs": [],
   "source": [
    "dfmatched <- match.data(m.obj)\n",
    "\n",
    "dfmatched |>    group_by(treat) |> \n",
    "                summarize(\"mean of y\" = mean(yvar)) |>\n",
    "                pivot_wider(    names_from = treat,\n",
    "                                values_from = `mean of y`) |>\n",
    "                mutate(\"diff in means\" = `1` - `0`)"
   ]
  },
  {
   "cell_type": "markdown",
   "metadata": {},
   "source": [
    "We can combine matching with regression methods to condition on other potential determinants of $Y$ using our matched sample. "
   ]
  },
  {
   "cell_type": "code",
   "execution_count": null,
   "metadata": {
    "vscode": {
     "languageId": "r"
    }
   },
   "outputs": [],
   "source": [
    "matched1 <- lm(yvar ~ treat, data = dfmatched)\n",
    "matched2 <- lm(yvar ~ treat + xvar1, data = dfmatched)\n",
    "matched3 <- lm(yvar ~ treat + xvar2, data = dfmatched)\n",
    "matched4 <- lm(yvar ~ treat + xvar1 + xvar2, data = dfmatched)\n",
    "\n",
    "modelsummary(list(m1, m2, m3, m4, \n",
    "                matched1, matched2, matched3, matched4),\n",
    "                out = \"jupyter\")"
   ]
  }
 ],
 "metadata": {
  "kernelspec": {
   "display_name": "R",
   "language": "R",
   "name": "ir"
  },
  "language_info": {
   "codemirror_mode": "r",
   "file_extension": ".r",
   "mimetype": "text/x-r-source",
   "name": "R",
   "pygments_lexer": "r",
   "version": "4.3.2"
  }
 },
 "nbformat": 4,
 "nbformat_minor": 2
}
