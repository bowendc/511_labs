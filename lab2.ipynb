{
 "cells": [
  {
   "attachments": {},
   "cell_type": "markdown",
   "metadata": {},
   "source": [
    "In this lab, we are going to cover some additional basic data management functions as well as how to make simple comparisons using crosstabs, mean comparisons, and difference of means tests. \n",
    "\n",
    "Let's begin by loading up our packages, including installing a new package, **vtable**."
   ]
  },
  {
   "cell_type": "code",
   "execution_count": null,
   "metadata": {
    "vscode": {
     "languageId": "r"
    }
   },
   "outputs": [],
   "source": [
    "# If needed, install the packages.\n",
    "\n",
    "install.packages(c(\"tidyverse\",\"haven\",\"dataverse\",\"vtable\"))"
   ]
  },
  {
   "cell_type": "code",
   "execution_count": null,
   "metadata": {
    "vscode": {
     "languageId": "r"
    }
   },
   "outputs": [],
   "source": [
    "library(tidyverse)\n",
    "library(haven)\n",
    "library(dataverse)\n",
    "library(vtable)"
   ]
  },
  {
   "attachments": {},
   "cell_type": "markdown",
   "metadata": {},
   "source": [
    "## Downloading the dataset\n",
    "\n",
    "Like in Lab 1, we'll use the **dataverse** package functions to download a replication dataset. for this lab, we will be using a dataset created by Meier, Johnson, and An for their paper \"Perceptual Bias and Public Programs: The Case of the United States and Hospital Care.\" The dataset is part of the replication file their [PAR paper](https://onlinelibrary.wiley.com/doi/full/10.1111/puar.13067). In the paper, the authors are retesting a previous finding that citizens had negative opinions about public services, compared to private services. Respondents were randomly assigned to receiving a cue about a public or private hospital, and then asked to evaluate the organization on several items. We'll use one: *q9*: \"The hospital acts in the interest of patients\", scored on a scale from 1 (doesn't fit) to 7 (fits very well)."
   ]
  },
  {
   "cell_type": "code",
   "execution_count": 72,
   "metadata": {
    "vscode": {
     "languageId": "r"
    }
   },
   "outputs": [],
   "source": [
    "public.hosp <- get_dataframe_by_doi(              \n",
    "          filedoi = \"doi:10.7910/DVN/NRQPZX/KOEWTQ\",\n",
    "          original = TRUE, \n",
    "          .f = haven::read_dta, \n",
    "          server = \"dataverse.harvard.edu\")          "
   ]
  },
  {
   "attachments": {},
   "cell_type": "markdown",
   "metadata": {},
   "source": [
    "## Creating a table of descriptive statistics \n",
    "\n",
    "To create a table of descriptive statistics, we will use the *sumtable()* function of the **vtable** package. This is a clean, well-formatted table output that will give us a nice set of options for exporting, viewing, or saving the table. The *select()* function is part of **tidyverse** and will allow us to filter out some columns of data if we want. You could do this directly in the *sumtable()* function using the *vars* argument. Check out the *out* argument from the help file to see some other options. I'm using *out = \"return\"* so that the table will show up as output in the console, but the default settings will open up an html version in your web browser. You can also export to a csv file. "
   ]
  },
  {
   "cell_type": "code",
   "execution_count": null,
   "metadata": {
    "vscode": {
     "languageId": "r"
    }
   },
   "outputs": [],
   "source": [
    "sumtable(public.hosp, out = \"return\") \n",
    "\n",
    "public.hosp |> \n",
    "    select(!(c(\"q1\", \"q2\"))) |>    # ! means \"does not\", so we are selecting\n",
    "    sumtable(out = \"return\")       # just those columns that don't equal q1 or q2"
   ]
  },
  {
   "attachments": {},
   "cell_type": "markdown",
   "metadata": {},
   "source": [
    "## Recoding and generating new variables\n",
    "\n",
    "Changing variables and creating new variables can be done in both base R and using the tidyverse. I typically use the **tidyverse** function *mutate()* for recoding and generating new variables. To illustrate how *mutate* works, let's recode the age variable in the dataset. Notice a couple of items about the following code. First, if we want the changes to remain, we need to assign the output of the function to a new object, or overwrite the existing object by assigning it its same. I would strongly recommend assigning to a new object when recoding, like in the code below. Second, you can string together multiple calls to recode or create new variables inside the same *mutate* call, just string them together with a comma. Finally, to recode from interval data into categories, we'll use the *case_when* function. This function will build, so it matters which order you list the conditions. If you list something last that contradicts what you said earlier, then the earlier recode will be overwritten. The final line of the *case_when* statement takes all of the remaining values and codes them to missing data.\n",
    "\n",
    "If we want to label the values of our new variable, we can use R's *ordered()* function, which tells R the variable is ordinal and allows us to add labels. "
   ]
  },
  {
   "cell_type": "code",
   "execution_count": null,
   "metadata": {
    "vscode": {
     "languageId": "r"
    }
   },
   "outputs": [],
   "source": [
    "public.hosp.recode <- public.hosp |> \n",
    "                            mutate(agesq = age^2,\n",
    "                                   age4cat = case_when(\n",
    "                                        age < 35 ~ 0,\n",
    "                                        age >= 35 & age < 50 ~ 1,\n",
    "                                        age >=50 & age < 65 ~ 2, \n",
    "                                        age >=65 ~ 3,\n",
    "                                        TRUE ~ NA_real_ # anything not already assigned gets NA\n",
    "                                   ))\n",
    "\n",
    "public.hosp.recode$age4cat <- ordered(public.hosp.recode$age4cat,\n",
    "                                   labels = c(\"0-34\", \"34-49\", \"50-64\", \"65+\"))\n",
    "\n",
    "table(public.hosp.recode$age4cat)"
   ]
  },
  {
   "attachments": {},
   "cell_type": "markdown",
   "metadata": {},
   "source": [
    "## Crosstabs \n",
    "\n",
    "I use cross-tabulations, or contingency tables, quite a bit in my own work. They are simple ways of seeing the joint frequency distribution of two (or more) variables together. There are several packages in R that can create crosstabs, although I haven't found one that I am perfectly happy with. Instead of using a specially-design package, let's rely on the **dplyr** functionality (part of **tidyverse**) to create our own crosstabs. \n",
    "\n",
    "First, we can group our data by our independent (*public*) and dependent (*q9*) variables. Then, we can tell R to generate a count of the number of cases by the categories of *q9* and *public*. "
   ]
  },
  {
   "cell_type": "code",
   "execution_count": null,
   "metadata": {
    "vscode": {
     "languageId": "r"
    }
   },
   "outputs": [],
   "source": [
    "CT.summary <- public.hosp |> \n",
    "            group_by(q9, public) |>\n",
    "            count()\n",
    "\n",
    "CT.summary"
   ]
  },
  {
   "attachments": {},
   "cell_type": "markdown",
   "metadata": {},
   "source": [
    "We're getting closer, but what we really want is *public* to be in two separate columns, one for each of its values. *pivot_wider* reshapes the data, and *rename* obviously renames the columns, which would have simply been labeled as \"0\" and \"1\"."
   ]
  },
  {
   "cell_type": "code",
   "execution_count": null,
   "metadata": {
    "vscode": {
     "languageId": "r"
    }
   },
   "outputs": [],
   "source": [
    "CT.tab <- CT.summary |>\n",
    "            pivot_wider(names_from = public,    # switches the table from long to wide\n",
    "                        values_from = n) |>\n",
    "            rename(private = \"0\",              # gives intelligible names\n",
    "                    public = \"1\")\n",
    "\n",
    "CT.tab              "
   ]
  },
  {
   "attachments": {},
   "cell_type": "markdown",
   "metadata": {},
   "source": [
    "We're almost there! Now to calculate the percentages or proportions by column of data, we need to ungroup our data (*using group_by(NULL)*) and then call up *mutate()* one more time.\n",
    "\n",
    "To make a nicer looking table, let's only select the columns we want to present. "
   ]
  },
  {
   "cell_type": "code",
   "execution_count": null,
   "metadata": {
    "vscode": {
     "languageId": "r"
    }
   },
   "outputs": [],
   "source": [
    "CT.tab.prop <- CT.tab |> group_by(NULL) |> # we need to ungroup our data or the summaries will\n",
    "                                           # continue to be by values of q9\n",
    "                    mutate(pct.private = 100*(private/sum(private)),\n",
    "                           pct.public = 100*(public/sum(public)))\n",
    "                    \n",
    "CT.tab.prop |> select(q9, pct.private, pct.public)"
   ]
  },
  {
   "attachments": {},
   "cell_type": "markdown",
   "metadata": {},
   "source": [
    "## Mean comparisons and difference of means tests\n",
    "\n",
    "Mean comparisons are easier, and we can calculate the mean comparison test simply by grouping our data and then running *summarise* with the *mean* function. Grouping is done by the independent variable in a mean comparison test, we are calculating the average of the dependent variable."
   ]
  },
  {
   "cell_type": "code",
   "execution_count": null,
   "metadata": {
    "vscode": {
     "languageId": "r"
    }
   },
   "outputs": [],
   "source": [
    "MC.tab <- public.hosp.recode |>\n",
    "                    group_by(public) |>\n",
    "                    summarise(\"Mean of q9\" = mean(q9))\n",
    "\n",
    "MC.tab"
   ]
  },
  {
   "attachments": {},
   "cell_type": "markdown",
   "metadata": {},
   "source": [
    "Hmmm. These look pretty similar. I'm not sure there is much of an effect of the public hospital prompt in the survey experiment. Let's test it more formally by calculating a t-test, which evaluates whether $\\bar{y_{private}} - \\bar{y_{public}}$ is significantly different from the null hypothesis of 0. "
   ]
  },
  {
   "cell_type": "code",
   "execution_count": null,
   "metadata": {
    "vscode": {
     "languageId": "r"
    }
   },
   "outputs": [],
   "source": [
    "t.test(q9 ~ public, data = public.hosp.recode, var.equal = TRUE)"
   ]
  },
  {
   "attachments": {},
   "cell_type": "markdown",
   "metadata": {},
   "source": [
    "What do you think? Is the experimental treatment significantly related to evaluations of whether the hospital acts in the interest of patients?\n"
   ]
  }
 ],
 "metadata": {
  "kernelspec": {
   "display_name": "R",
   "language": "R",
   "name": "ir"
  },
  "language_info": {
   "codemirror_mode": "r",
   "file_extension": ".r",
   "mimetype": "text/x-r-source",
   "name": "R",
   "pygments_lexer": "r",
   "version": "4.2.0"
  },
  "orig_nbformat": 4,
  "vscode": {
   "interpreter": {
    "hash": "369f2c481f4da34e4445cda3fffd2e751bd1c4d706f27375911949ba6bb62e1c"
   }
  }
 },
 "nbformat": 4,
 "nbformat_minor": 2
}
