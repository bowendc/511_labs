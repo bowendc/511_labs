{
 "cells": [
  {
   "attachments": {},
   "cell_type": "markdown",
   "metadata": {},
   "source": [
    "## Taking a look around in R and RStudio\n",
    "\n",
    "Notice the various windows. \n",
    "\n",
    "1. The Console allows you to enter commands and view results\n",
    "2. The Environment window will show you the various objects R is keeping track of (vectors, datasets, lists, etc.)\n",
    "3. The bottom right window will show you files, figures/graphs, help files, and more. \n",
    "4. If you create/open a script, it will appear in the top-right by default. I encourage using an R project and R script for nearly all work. \n",
    "\n",
    "## Start an RStudio project\n",
    "\n",
    "Steps:\n",
    "\n",
    "- File &rarr; New Project\n",
    "- Choose a name for the project and folder location.^[I have a folder called \"labs\" located in the my main PUBG 511 folder. If you are primarily going to be using RStudio through the computer lab or the Virtual App, then place this folder in your H:\\ network space]\n",
    "- Now start a new script using the sheet with a plus sign icon from the toolbar or using the file menu. On the right side of your window, it should show the name of your project.\n",
    "- RStudio projects make it so you don't need to worry about setting a working directory - it is defined in the project. Just make sure all files written to or read by R are in the same folder or in a nested subfolder. \n",
    "\n",
    "## Installing and loading packages\n",
    "\n",
    "R is open-source, and, frankly, kinda stinks on its own.^[This is called base R.] But there are many, many user-generated packages that improve R's functionality. We'll be using these packages all the time, especially a group of packages called [the tidyverse](https://www.tidyverse.org/packages/). \n",
    "\n",
    "You only need to install the package once and then you're good to go (until it needs updating). But you also need to load the package in every R session if you want to use those commands. "
   ]
  },
  {
   "cell_type": "code",
   "execution_count": 1,
   "metadata": {
    "vscode": {
     "languageId": "r"
    }
   },
   "outputs": [
    {
     "name": "stderr",
     "output_type": "stream",
     "text": [
      "Installing packages into 'C:/Users/bowen/AppData/Local/R/win-library/4.2'\n",
      "(as 'lib' is unspecified)\n",
      "\n"
     ]
    },
    {
     "name": "stdout",
     "output_type": "stream",
     "text": [
      "package 'tidyverse' successfully unpacked and MD5 sums checked\n",
      "package 'haven' successfully unpacked and MD5 sums checked\n"
     ]
    },
    {
     "name": "stderr",
     "output_type": "stream",
     "text": [
      "Warning message:\n",
      "\"cannot remove prior installation of package 'haven'\"\n",
      "Warning message in file.copy(savedcopy, lib, recursive = TRUE):\n",
      "\"problem copying C:\\Users\\bowen\\AppData\\Local\\R\\win-library\\4.2\\00LOCK\\haven\\libs\\x64\\haven.dll to C:\\Users\\bowen\\AppData\\Local\\R\\win-library\\4.2\\haven\\libs\\x64\\haven.dll: Permission denied\"\n",
      "Warning message:\n",
      "\"restored 'haven'\"\n"
     ]
    },
    {
     "name": "stdout",
     "output_type": "stream",
     "text": [
      "package 'dataverse' successfully unpacked and MD5 sums checked\n",
      "\n",
      "The downloaded binary packages are in\n",
      "\tC:\\Users\\bowen\\AppData\\Local\\Temp\\RtmpYXurAT\\downloaded_packages\n"
     ]
    },
    {
     "name": "stderr",
     "output_type": "stream",
     "text": [
      "Warning message:\n",
      "\"package 'tidyverse' was built under R version 4.2.2\"\n",
      "── \u001b[1mAttaching packages\u001b[22m ─────────────────────────────────────── tidyverse 1.3.2 ──\n",
      "\u001b[32m✔\u001b[39m \u001b[34mggplot2\u001b[39m 3.3.6     \u001b[32m✔\u001b[39m \u001b[34mpurrr  \u001b[39m 0.3.4\n",
      "\u001b[32m✔\u001b[39m \u001b[34mtibble \u001b[39m 3.1.7     \u001b[32m✔\u001b[39m \u001b[34mdplyr  \u001b[39m 1.0.9\n",
      "\u001b[32m✔\u001b[39m \u001b[34mtidyr  \u001b[39m 1.2.0     \u001b[32m✔\u001b[39m \u001b[34mstringr\u001b[39m 1.4.0\n",
      "\u001b[32m✔\u001b[39m \u001b[34mreadr  \u001b[39m 2.1.2     \u001b[32m✔\u001b[39m \u001b[34mforcats\u001b[39m 0.5.1\n",
      "── \u001b[1mConflicts\u001b[22m ────────────────────────────────────────── tidyverse_conflicts() ──\n",
      "\u001b[31m✖\u001b[39m \u001b[34mdplyr\u001b[39m::\u001b[32mfilter()\u001b[39m masks \u001b[34mstats\u001b[39m::filter()\n",
      "\u001b[31m✖\u001b[39m \u001b[34mdplyr\u001b[39m::\u001b[32mlag()\u001b[39m    masks \u001b[34mstats\u001b[39m::lag()\n",
      "Warning message:\n",
      "\"package 'dataverse' was built under R version 4.2.2\"\n"
     ]
    }
   ],
   "source": [
    "# Install the required packages if not already installed \n",
    "# By the way, the hashtag/pound/octothorpe symbol will comment out a line in your script\n",
    "\n",
    " install.packages(c('tidyverse', 'haven', 'dataverse'))\n",
    "\n",
    "# let's load your packages in the R session\n",
    "\n",
    "library(tidyverse)\n",
    "library(haven)\n",
    "library(dataverse)"
   ]
  },
  {
   "attachments": {},
   "cell_type": "markdown",
   "metadata": {},
   "source": [
    "## Some basic built-in functions\n",
    "\n",
    "R can handle a great diversity of *objects* including lists, variables, names, vectors, data frames, scalars, and plots. Let's create a vector of data using a random draw from a normal distribution and then use two functions to describe the variable."
   ]
  },
  {
   "cell_type": "code",
   "execution_count": 2,
   "metadata": {
    "vscode": {
     "languageId": "r"
    }
   },
   "outputs": [
    {
     "data": {
      "text/html": [
       "50.292978917895"
      ],
      "text/latex": [
       "50.292978917895"
      ],
      "text/markdown": [
       "50.292978917895"
      ],
      "text/plain": [
       "[1] 50.29298"
      ]
     },
     "metadata": {},
     "output_type": "display_data"
    },
    {
     "data": {
      "text/plain": [
       "   Min. 1st Qu.  Median    Mean 3rd Qu.    Max. \n",
       "  17.37   43.51   50.14   50.29   57.10   83.92 "
      ]
     },
     "metadata": {},
     "output_type": "display_data"
    }
   ],
   "source": [
    "x <- rnorm(2500, mean = 50, sd = 10)\n",
    "mean(x)\n",
    "summary(x)"
   ]
  },
  {
   "attachments": {},
   "cell_type": "markdown",
   "metadata": {},
   "source": [
    "We can check the distribution of our variable using a histogram."
   ]
  },
  {
   "cell_type": "code",
   "execution_count": 3,
   "metadata": {
    "vscode": {
     "languageId": "r"
    }
   },
   "outputs": [
    {
     "data": {
      "image/png": "[encoded data removed]",
      "text/plain": [
       "Plot with title \"Histogram of x\""
      ]
     },
     "metadata": {
      "image/png": {
       "height": 420,
       "width": 420
      }
     },
     "output_type": "display_data"
    }
   ],
   "source": [
    "hist(x)"
   ]
  },
  {
   "attachments": {},
   "cell_type": "markdown",
   "metadata": {},
   "source": [
    "We could change the number of bins used by the histogram if we want and change the y-axis from a frequency to a probability (much better). R options will typically require a value (like the 30 in the breaks option below) or a logical entry of TRUE or FALSE to toggle settings on or off."
   ]
  },
  {
   "cell_type": "code",
   "execution_count": 4,
   "metadata": {
    "vscode": {
     "languageId": "r"
    }
   },
   "outputs": [
    {
     "data": {
      "image/png": "[encoded data removed]",
      "text/plain": [
       "Plot with title \"Histogram of x\""
      ]
     },
     "metadata": {
      "image/png": {
       "height": 420,
       "width": 420
      }
     },
     "output_type": "display_data"
    }
   ],
   "source": [
    "hist(x, breaks = 30, probability = TRUE)"
   ]
  },
  {
   "attachments": {},
   "cell_type": "markdown",
   "metadata": {},
   "source": [
    "Let's run hist() once more, this time suppressing the data and asking R to give use the output in the console."
   ]
  },
  {
   "cell_type": "code",
   "execution_count": 5,
   "metadata": {
    "vscode": {
     "languageId": "r"
    }
   },
   "outputs": [
    {
     "name": "stderr",
     "output_type": "stream",
     "text": [
      "Warning message in hist.default(x, breaks = 30, probability = TRUE, plot = FALSE):\n",
      "\"argument 'probability' is not made use of\"\n"
     ]
    },
    {
     "data": {
      "text/plain": [
       "$breaks\n",
       " [1] 16 18 20 22 24 26 28 30 32 34 36 38 40 42 44 46 48 50 52 54 56 58 60 62 64\n",
       "[26] 66 68 70 72 74 76 78 80 82 84\n",
       "\n",
       "$counts\n",
       " [1]   1   2   1   5  10  14  17  33  38  54  99 110 135 136 182 185 217 185 190\n",
       "[20] 183 139 138 114  98  72  47  32  20  24  10   4   3   0   2\n",
       "\n",
       "$density\n",
       " [1] 0.0002 0.0004 0.0002 0.0010 0.0020 0.0028 0.0034 0.0066 0.0076 0.0108\n",
       "[11] 0.0198 0.0220 0.0270 0.0272 0.0364 0.0370 0.0434 0.0370 0.0380 0.0366\n",
       "[21] 0.0278 0.0276 0.0228 0.0196 0.0144 0.0094 0.0064 0.0040 0.0048 0.0020\n",
       "[31] 0.0008 0.0006 0.0000 0.0004\n",
       "\n",
       "$mids\n",
       " [1] 17 19 21 23 25 27 29 31 33 35 37 39 41 43 45 47 49 51 53 55 57 59 61 63 65\n",
       "[26] 67 69 71 73 75 77 79 81 83\n",
       "\n",
       "$xname\n",
       "[1] \"x\"\n",
       "\n",
       "$equidist\n",
       "[1] TRUE\n",
       "\n",
       "attr(,\"class\")\n",
       "[1] \"histogram\""
      ]
     },
     "metadata": {},
     "output_type": "display_data"
    }
   ],
   "source": [
    "hist(x, breaks = 30, probability = TRUE, plot = FALSE)"
   ]
  },
  {
   "attachments": {},
   "cell_type": "markdown",
   "metadata": {},
   "source": [
    "## Opening datasets\n",
    "\n",
    "R has various formats for datasets, typically called a data frame. We could download the ABH_full_district file from [The Journal of Politcs' Dataverse](https://dataverse.harvard.edu/dataset.xhtml?persistentId=doi:10.7910/DVN/VR12G4) using your web browser. Dataverse repositories allow files to be downloaded in multiple formats: usually as a Stata file, an R workspace, or as a .csv or .tab delimited text file. If you were to place your files in the same folder that you have set as your project location, you would not need to specify working directories or complete file paths; your computer will already know were to look for the data.\n",
    "\n",
    "We can load an Rdata workspace using the *load()* function. To open the Stata .dta file, we'll need to use functionality from the *read_dta()* function from the **haven** package. But instead, let's use the functionality of the **dataverse** package to directly ingest the data from the online repository in to R. "
   ]
  },
  {
   "cell_type": "code",
   "execution_count": 6,
   "metadata": {
    "vscode": {
     "languageId": "r"
    }
   },
   "outputs": [],
   "source": [
    "ABH.data <- get_dataframe_by_doi(                    # we'll name the dataframe ABH.data\n",
    "          filedoi = \"doi:10.7910/DVN/VR12G4/WGIHIT\", # this is the code for the specific table we want\n",
    "          original = TRUE,                           # original is Stata 13 binary in this dataset\n",
    "          .f = haven::read_dta,                      # to read .dta files, calling up haven's read_dta function\n",
    "          server = \"dataverse.harvard.edu\")          "
   ]
  },
  {
   "attachments": {},
   "cell_type": "markdown",
   "metadata": {},
   "source": [
    "## Using the pipe (|>)\n",
    "\n",
    "The pipe operator allows users to pass objects onto multiple functions without creating new variables or nesting functions. The original pipe is built in to the **tidyverse** packages (%>%), and you'll see many example codes online using this pipe. It's great. However, starting in R version 4.1, base R includes a new pipe operator that will work throughout everything in R (|>). Let's look at the example below using **tidyverse**'s *summarize* function, which aggregates data in the ways specfied in the command. In this case, we're summarizing two variables (two separate measures of member ideology, coded so that more extreme ideology is higher) in the ABH.data dataset by asking R to calculate their means. \n"
   ]
  },
  {
   "cell_type": "code",
   "execution_count": 7,
   "metadata": {
    "vscode": {
     "languageId": "r"
    }
   },
   "outputs": [
    {
     "data": {
      "text/html": [
       "<table class=\"dataframe\">\n",
       "<caption>A tibble: 1 × 2</caption>\n",
       "<thead>\n",
       "\t<tr><th scope=col>mean_nom</th><th scope=col>mean_cvp</th></tr>\n",
       "\t<tr><th scope=col>&lt;dbl&gt;</th><th scope=col>&lt;dbl&gt;</th></tr>\n",
       "</thead>\n",
       "<tbody>\n",
       "\t<tr><td>0.3673664</td><td>0.2189927</td></tr>\n",
       "</tbody>\n",
       "</table>\n"
      ],
      "text/latex": [
       "A tibble: 1 × 2\n",
       "\\begin{tabular}{ll}\n",
       " mean\\_nom & mean\\_cvp\\\\\n",
       " <dbl> & <dbl>\\\\\n",
       "\\hline\n",
       "\t 0.3673664 & 0.2189927\\\\\n",
       "\\end{tabular}\n"
      ],
      "text/markdown": [
       "\n",
       "A tibble: 1 × 2\n",
       "\n",
       "| mean_nom &lt;dbl&gt; | mean_cvp &lt;dbl&gt; |\n",
       "|---|---|\n",
       "| 0.3673664 | 0.2189927 |\n",
       "\n"
      ],
      "text/plain": [
       "  mean_nom  mean_cvp \n",
       "1 0.3673664 0.2189927"
      ]
     },
     "metadata": {},
     "output_type": "display_data"
    }
   ],
   "source": [
    "ABH.data |> summarize(mean_nom = mean(abs_dist_nom, na.rm = TRUE), \n",
    "                      mean_cvp = mean(abs_dist_cvp, na.rm = TRUE))"
   ]
  },
  {
   "attachments": {},
   "cell_type": "markdown",
   "metadata": {},
   "source": [
    "So here, the pipe passes the data (ABH.data) to the summarize function. We could have specified the data directly inside the summarize function if we wanted to. But using the pipe will let us have a great deal more control over the how we process the data. "
   ]
  },
  {
   "attachments": {},
   "cell_type": "markdown",
   "metadata": {},
   "source": [
    "## **filter** and **group_by**\n",
    "\n",
    "These functions are also part of the **tidyverse**. *filter()* allows us to, well, filter our observations based on some condition or a list of conditions. In the code below, we select just those districts that come after the 105th Congress. \n",
    "\n",
    "The *group_by()* function allows you to aggregate your data by grouping variables. In the code below, we group the data by congress and whether the member is in their first term or not (coded 1 or 0) prior to calculating the means. "
   ]
  },
  {
   "cell_type": "code",
   "execution_count": 9,
   "metadata": {
    "vscode": {
     "languageId": "r"
    }
   },
   "outputs": [
    {
     "name": "stderr",
     "output_type": "stream",
     "text": [
      "\u001b[1m\u001b[22m`summarise()` has grouped output by 'congress'. You can override using the\n",
      "`.groups` argument.\n"
     ]
    },
    {
     "data": {
      "text/html": [
       "<table class=\"dataframe\">\n",
       "<caption>A grouped_df: 12 × 4</caption>\n",
       "<thead>\n",
       "\t<tr><th scope=col>congress</th><th scope=col>first_term</th><th scope=col>mean_nom</th><th scope=col>mean_cvp</th></tr>\n",
       "\t<tr><th scope=col>&lt;dbl&gt;</th><th scope=col>&lt;dbl&gt;</th><th scope=col>&lt;dbl&gt;</th><th scope=col>&lt;dbl&gt;</th></tr>\n",
       "</thead>\n",
       "<tbody>\n",
       "\t<tr><td>106</td><td>0</td><td>0.4035167</td><td>0.1971955</td></tr>\n",
       "\t<tr><td>106</td><td>1</td><td>0.4188537</td><td>0.2066827</td></tr>\n",
       "\t<tr><td>107</td><td>0</td><td>0.4115987</td><td>0.2002545</td></tr>\n",
       "\t<tr><td>107</td><td>1</td><td>0.3741744</td><td>0.1466879</td></tr>\n",
       "\t<tr><td>108</td><td>0</td><td>0.4129101</td><td>0.2309164</td></tr>\n",
       "\t<tr><td>108</td><td>1</td><td>0.3689608</td><td>0.1896715</td></tr>\n",
       "\t<tr><td>109</td><td>0</td><td>0.4167296</td><td>0.2357825</td></tr>\n",
       "\t<tr><td>109</td><td>1</td><td>0.3606923</td><td>0.1949152</td></tr>\n",
       "\t<tr><td>110</td><td>0</td><td>0.4239717</td><td>0.2732154</td></tr>\n",
       "\t<tr><td>110</td><td>1</td><td>0.3155566</td><td>0.1806786</td></tr>\n",
       "\t<tr><td>111</td><td>0</td><td>0.3982757</td><td>0.1948785</td></tr>\n",
       "\t<tr><td>111</td><td>1</td><td>0.3404727</td><td>0.1860086</td></tr>\n",
       "</tbody>\n",
       "</table>\n"
      ],
      "text/latex": [
       "A grouped\\_df: 12 × 4\n",
       "\\begin{tabular}{llll}\n",
       " congress & first\\_term & mean\\_nom & mean\\_cvp\\\\\n",
       " <dbl> & <dbl> & <dbl> & <dbl>\\\\\n",
       "\\hline\n",
       "\t 106 & 0 & 0.4035167 & 0.1971955\\\\\n",
       "\t 106 & 1 & 0.4188537 & 0.2066827\\\\\n",
       "\t 107 & 0 & 0.4115987 & 0.2002545\\\\\n",
       "\t 107 & 1 & 0.3741744 & 0.1466879\\\\\n",
       "\t 108 & 0 & 0.4129101 & 0.2309164\\\\\n",
       "\t 108 & 1 & 0.3689608 & 0.1896715\\\\\n",
       "\t 109 & 0 & 0.4167296 & 0.2357825\\\\\n",
       "\t 109 & 1 & 0.3606923 & 0.1949152\\\\\n",
       "\t 110 & 0 & 0.4239717 & 0.2732154\\\\\n",
       "\t 110 & 1 & 0.3155566 & 0.1806786\\\\\n",
       "\t 111 & 0 & 0.3982757 & 0.1948785\\\\\n",
       "\t 111 & 1 & 0.3404727 & 0.1860086\\\\\n",
       "\\end{tabular}\n"
      ],
      "text/markdown": [
       "\n",
       "A grouped_df: 12 × 4\n",
       "\n",
       "| congress &lt;dbl&gt; | first_term &lt;dbl&gt; | mean_nom &lt;dbl&gt; | mean_cvp &lt;dbl&gt; |\n",
       "|---|---|---|---|\n",
       "| 106 | 0 | 0.4035167 | 0.1971955 |\n",
       "| 106 | 1 | 0.4188537 | 0.2066827 |\n",
       "| 107 | 0 | 0.4115987 | 0.2002545 |\n",
       "| 107 | 1 | 0.3741744 | 0.1466879 |\n",
       "| 108 | 0 | 0.4129101 | 0.2309164 |\n",
       "| 108 | 1 | 0.3689608 | 0.1896715 |\n",
       "| 109 | 0 | 0.4167296 | 0.2357825 |\n",
       "| 109 | 1 | 0.3606923 | 0.1949152 |\n",
       "| 110 | 0 | 0.4239717 | 0.2732154 |\n",
       "| 110 | 1 | 0.3155566 | 0.1806786 |\n",
       "| 111 | 0 | 0.3982757 | 0.1948785 |\n",
       "| 111 | 1 | 0.3404727 | 0.1860086 |\n",
       "\n"
      ],
      "text/plain": [
       "   congress first_term mean_nom  mean_cvp \n",
       "1  106      0          0.4035167 0.1971955\n",
       "2  106      1          0.4188537 0.2066827\n",
       "3  107      0          0.4115987 0.2002545\n",
       "4  107      1          0.3741744 0.1466879\n",
       "5  108      0          0.4129101 0.2309164\n",
       "6  108      1          0.3689608 0.1896715\n",
       "7  109      0          0.4167296 0.2357825\n",
       "8  109      1          0.3606923 0.1949152\n",
       "9  110      0          0.4239717 0.2732154\n",
       "10 110      1          0.3155566 0.1806786\n",
       "11 111      0          0.3982757 0.1948785\n",
       "12 111      1          0.3404727 0.1860086"
      ]
     },
     "metadata": {},
     "output_type": "display_data"
    }
   ],
   "source": [
    "ABH.data |> filter(congress>105) |> \n",
    "       group_by(congress, first_term) |> \n",
    "                summarize(mean_nom = mean(abs_dist_nom, na.rm = TRUE), \n",
    "                          mean_cvp = mean(abs_dist_cvp, na.rm = TRUE))"
   ]
  },
  {
   "attachments": {},
   "cell_type": "markdown",
   "metadata": {},
   "source": [
    "The pipe first passes the data to be filtered, then passes the filtered dataset to be grouped, then passes the grouped and final data to be summarized. If you want to insert the pipe using a keyboard shortcut in RStudio, you can use <kbd>ctrl</kbd> + <kbd>shift</kbd> + <kbd>m</kbd>. Note that the shortcut uses the **tidyverse** pipe by default, but you can change it to the base R |> pipe in the settings. Check the \"Use native pipe operator, |> (requires $ 4.1+) box in Tools &rarr; Global Options &rarr; Code menu window."
   ]
  }
 ],
 "metadata": {
  "kernelspec": {
   "display_name": "R",
   "language": "R",
   "name": "ir"
  },
  "language_info": {
   "codemirror_mode": "r",
   "file_extension": ".r",
   "mimetype": "text/x-r-source",
   "name": "R",
   "pygments_lexer": "r",
   "version": "4.2.0"
  },
  "orig_nbformat": 4
 },
 "nbformat": 4,
 "nbformat_minor": 2
}
