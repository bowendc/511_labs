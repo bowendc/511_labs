{
 "cells": [
  {
   "cell_type": "markdown",
   "metadata": {},
   "source": [
    "## Instrumental Variables (IV)\n",
    "\n",
    "Our final lab illustrates how to conduct instrumental variables regression. IV, as you recall, is useful when you have some instrument causing your predictor variable. This instrument must be connected to the outcome only through through the predictor. IV then uses the instrument to predict the predictor/treatment variable (first stage) and then uses those predicted values to model the outcome (second stage). IV regression helps us because we are modeling the change in the predictor attributable to the instrument, and the instrument is independent from any other confounders. Let's illustrate how IV regression works using some simulated data."
   ]
  },
  {
   "cell_type": "code",
   "execution_count": null,
   "metadata": {
    "vscode": {
     "languageId": "r"
    }
   },
   "outputs": [],
   "source": [
    "# install packages as necessary and load\n",
    "install.packages('tidyverse',  'modelsummary', 'faux', 'ivreg')\n",
    "\n",
    "library(tidyverse)\n",
    "library(modelsummary)\n",
    "library(ivreg)\n",
    "library(faux)"
   ]
  },
  {
   "cell_type": "markdown",
   "metadata": {},
   "source": [
    "Now we can create our simulated data using **{faux}**. Remember, we need an exogenous instrument. We also create two other predictors of $Y$: an un-observed confounder (`x.unob`) and a known and measured confounder (`confounder`)."
   ]
  },
  {
   "cell_type": "code",
   "execution_count": null,
   "metadata": {
    "vscode": {
     "languageId": "r"
    }
   },
   "outputs": [],
   "source": [
    "# draw instrument from uniform distribution from 3 to 10.\n",
    "inst <- runif(500, min = 3, max = 10)\n",
    "\n",
    "# create known confounder from normal distribution with \n",
    "# mean of 31 and a sd of 7.\n",
    "confounder <- rnorm(500, 31, 7)\n",
    "\n",
    "# draw correlated variables xvar1 and x.unob\n",
    "newvars <- rnorm_multi(n = 500,\n",
    "                       mu = c(7, 51),\n",
    "                       sd = c(3, 20),\n",
    "                       r = .7,\n",
    "                       varnames = c(\"xvar1\", \"x.unob\"))\n",
    "\n",
    "# combine them all into our tibble dataframe\n",
    "df <- tibble(inst, confounder, newvars)"
   ]
  },
  {
   "cell_type": "markdown",
   "metadata": {},
   "source": [
    "Now, we need our predictor variable to have at least a portion of its values coming from the instrument and the confounder, so we can alter our predictor variable. Let's also create our final model for $Y$ as a function of our $X$s:"
   ]
  },
  {
   "cell_type": "code",
   "execution_count": 4,
   "metadata": {
    "vscode": {
     "languageId": "r"
    }
   },
   "outputs": [],
   "source": [
    "df <- df |> \n",
    "        mutate(xvar1 = xvar1 + \n",
    "                       3*inst + \n",
    "                       .1*confounder + \n",
    "                        rnorm(500, 0, .5),\n",
    "               yvar = -4 + .8*confounder +\n",
    "                    .56*xvar1 +.35*x.unob + \n",
    "                    rnorm(500, 0, 4))"
   ]
  },
  {
   "cell_type": "markdown",
   "metadata": {},
   "source": [
    "So our \"true\" effect of `xvar1` should be .56. What happens if we run a model where we correctly identify `confounder` but can't measure `x.unob`? "
   ]
  },
  {
   "cell_type": "code",
   "execution_count": null,
   "metadata": {
    "vscode": {
     "languageId": "r"
    }
   },
   "outputs": [],
   "source": [
    "m1 <- lm(yvar ~ xvar1  + confounder, data = df)\n",
    "\n",
    "summary(m1)"
   ]
  },
  {
   "cell_type": "markdown",
   "metadata": {},
   "source": [
    "Ok, our estimate of the effect is too large. In fact:"
   ]
  },
  {
   "cell_type": "code",
   "execution_count": null,
   "metadata": {
    "vscode": {
     "languageId": "r"
    }
   },
   "outputs": [],
   "source": [
    "pct <- (m1$coefficients[\"xvar1\"] - .56) / .56 * 100 \n",
    "\n",
    "cat(\"OLS estimate is\", round(pct, 1), \"% too big.\")"
   ]
  },
  {
   "cell_type": "markdown",
   "metadata": {},
   "source": [
    "Why do you think our model is overestimating the effect of `xvar1`?"
   ]
  },
  {
   "cell_type": "markdown",
   "metadata": {},
   "source": [
    "Ok, now let's conduct our IV regression. We'll do so in two ways. First, we will run our two-stage models by hand to illustrate what is happening. Note that these models will have incorrect standard errors in the second stage. Second, we'll run the models using 2SLS through the **{ivreg}** package."
   ]
  },
  {
   "cell_type": "code",
   "execution_count": null,
   "metadata": {
    "vscode": {
     "languageId": "r"
    }
   },
   "outputs": [],
   "source": [
    "# run first stage model, where xvar1 is \n",
    "# regressed on instrument and confounder\n",
    "m2_first <- lm(xvar1 ~ inst + confounder, data = df)\n",
    "\n",
    "# check the reduced form. Is inst related to yvar?\n",
    "m2_reduced <- lm(yvar ~ inst + confounder, data = df)\n",
    "summary(m2_reduced)\n",
    "\n",
    "# generated predicted values of xvar1 based on inst and confounder\n",
    "df$xvar1_pred <- m2_first$fitted.values\n",
    "\n",
    "# regress y on predicted values and confounder\n",
    "m2_second <- lm(yvar ~ xvar1_pred + confounder, data = df)"
   ]
  },
  {
   "cell_type": "markdown",
   "metadata": {},
   "source": [
    "Now, `ivreg` does these steps in one function call:"
   ]
  },
  {
   "cell_type": "code",
   "execution_count": 12,
   "metadata": {
    "vscode": {
     "languageId": "r"
    }
   },
   "outputs": [],
   "source": [
    "# in ivreg, the second stage goes first\n",
    "# the first stage appears after the |\n",
    "# your predictor must appear in second stage\n",
    "# but not in the first. The control variables\n",
    "# must appear in both models.\n",
    "# note that we still are omitting `x.unob` because\n",
    "# we do not know to include it or perhaps can't \n",
    "# measure it.\n",
    "m3 <- ivreg(yvar ~ xvar1 + confounder | inst + confounder, data = df)"
   ]
  },
  {
   "cell_type": "markdown",
   "metadata": {},
   "source": [
    "Now let's see how we did:"
   ]
  },
  {
   "cell_type": "code",
   "execution_count": null,
   "metadata": {
    "vscode": {
     "languageId": "r"
    }
   },
   "outputs": [],
   "source": [
    "modelsummary(list(m1, m2_second, m3), \n",
    "            coef_rename = c(\"xvar1_pred\" = \"Predictor\", \n",
    "            \"xvar1\" = \"Predictor\", \"confounder\" = \"Confounder\"),\n",
    "            stars = TRUE,                   \n",
    "            estimate = \"{estimate}{stars}\", \n",
    "            statistic = \"({std.error})\",\n",
    "            gof_map = c(\"nobs\", \"r.squared\", \"rmse\"))"
   ]
  },
  {
   "cell_type": "markdown",
   "metadata": {},
   "source": [
    "How are we doing now? Did our instrumental variables design get us closer to the actual effect of .56 in Models 2 (iv done by hand) and 3 (2SLS)?"
   ]
  }
 ],
 "metadata": {
  "kernelspec": {
   "display_name": "R",
   "language": "R",
   "name": "ir"
  },
  "language_info": {
   "codemirror_mode": "r",
   "file_extension": ".r",
   "mimetype": "text/x-r-source",
   "name": "R",
   "pygments_lexer": "r",
   "version": "4.4.2"
  }
 },
 "nbformat": 4,
 "nbformat_minor": 2
}
