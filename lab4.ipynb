{
 "cells": [
  {
   "attachments": {},
   "cell_type": "markdown",
   "metadata": {},
   "source": [
    "# Multiple Regression and Interaction Terms\n",
    "\n",
    "In this lab, we're going to cover more regression modeling, including modeling interaction terms and plotting marginal effects.\n",
    "\n",
    "To begin, install the **{modelsummary}**, **{faux}**, and **{margins}** packages (if needed) and load them along with **{tidyverse}**.\n",
    "\n"
   ]
  },
  {
   "cell_type": "code",
   "execution_count": null,
   "metadata": {
    "vscode": {
     "languageId": "r"
    }
   },
   "outputs": [],
   "source": [
    "install.packages(c(\"modelsummary\", \"faux\", \"margins\"))"
   ]
  },
  {
   "cell_type": "code",
   "execution_count": null,
   "metadata": {
    "vscode": {
     "languageId": "r"
    }
   },
   "outputs": [],
   "source": [
    "library(tidyverse)\n",
    "library(modelsummary)\n",
    "library(faux)\n",
    "library(margins)"
   ]
  },
  {
   "attachments": {},
   "cell_type": "markdown",
   "metadata": {},
   "source": [
    "## The data\n",
    "\n",
    "Let's again start with some simulated data so we can match regression output to \"real\" answers. \n",
    "\n",
    "Start with a random variable *x*. \n"
   ]
  },
  {
   "cell_type": "code",
   "execution_count": 4,
   "metadata": {
    "vscode": {
     "languageId": "r"
    }
   },
   "outputs": [],
   "source": [
    "xvar <- runif(n = 250, min = 3, max = 15)"
   ]
  },
  {
   "attachments": {},
   "cell_type": "markdown",
   "metadata": {},
   "source": [
    "Now create an indicator variable, created at random and rounded to the nearest whole number. "
   ]
  },
  {
   "cell_type": "code",
   "execution_count": 5,
   "metadata": {
    "vscode": {
     "languageId": "r"
    }
   },
   "outputs": [],
   "source": [
    "dum <- runif(250, min = 0, max =1) # by drawing within the [0,1] interval, we ensure a 0,1 dummy var.\n",
    "dum <- round(dum, 0) # the 0 is the number of decimal places"
   ]
  },
  {
   "attachments": {},
   "cell_type": "markdown",
   "metadata": {},
   "source": [
    "Now let's create some correlated data predictors of *y*. We'll use the *rnorm_multi()* function from the **{faux}** package."
   ]
  },
  {
   "cell_type": "code",
   "execution_count": 6,
   "metadata": {
    "vscode": {
     "languageId": "r"
    }
   },
   "outputs": [],
   "source": [
    "newvars <- rnorm_multi(n = 250,\n",
    "                        mu = c(7, 51),  # the means of the two vars\n",
    "                        sd = c(3, 20),  # the standard deviations\n",
    "                        r = .35,        # the correlation between the vars\n",
    "                        varnames = c(\"xvar2\", \n",
    "                                     \"xvar3\"))"
   ]
  },
  {
   "attachments": {},
   "cell_type": "markdown",
   "metadata": {},
   "source": [
    "Combine our data together into a data frame."
   ]
  },
  {
   "cell_type": "code",
   "execution_count": 7,
   "metadata": {
    "vscode": {
     "languageId": "r"
    }
   },
   "outputs": [],
   "source": [
    "df <- tibble(xvar, dum, newvars)"
   ]
  },
  {
   "attachments": {},
   "cell_type": "markdown",
   "metadata": {},
   "source": [
    "Create your outcome variable. In the code below, I specify an interaction term, $xvar2 \\times xvar3$."
   ]
  },
  {
   "cell_type": "code",
   "execution_count": 8,
   "metadata": {
    "vscode": {
     "languageId": "r"
    }
   },
   "outputs": [],
   "source": [
    "df <- df |> mutate(\n",
    "    yvar = -4 + 0.8*xvar - 3.64*dum  + 1.06*xvar2 + .35*xvar3 - .012*(xvar2*xvar3) + rnorm(250, 0, 4))\n"
   ]
  },
  {
   "attachments": {},
   "cell_type": "markdown",
   "metadata": {},
   "source": [
    "## Modeling\n",
    "\n",
    "Let's run three models, with each one adding variables until we get to our full, correct specification. We can store these model results and create our table using **{modelsummary}**."
   ]
  },
  {
   "cell_type": "code",
   "execution_count": null,
   "metadata": {
    "vscode": {
     "languageId": "r"
    }
   },
   "outputs": [],
   "source": [
    "m1 <- lm(yvar ~ xvar, data = df)  \n",
    "m2 <- lm(yvar ~ xvar + dum + xvar2 + xvar3, data = df)\n",
    "m3 <- lm(yvar ~ xvar + dum + xvar2*xvar3, data = df)\n",
    "\n",
    "modelsummary(models = list(m1, m2, m3), \n",
    "            estimate = \"{estimate}{stars}\", # this arg adds stars for sig\n",
    "            output = \"jupyter\") # again, don't use this arg "
   ]
  },
  {
   "attachments": {},
   "cell_type": "markdown",
   "metadata": {},
   "source": [
    "But interpreting this output is tricky, especially the interaction term and the constituent terms. Let's do some plotting!\n",
    "\n",
    "## Marginal Effects\n",
    "\n",
    "Marginal effects are estimates of the change in $\\hat{y}$ associated with a some small change in a predictor variable. We typically calculate marginal effects when using interaction terms and then graphing them to see how the marginal effect of one variable changes due to the values of a variable interacted with it. We'll use the **{margins}** package. "
   ]
  },
  {
   "cell_type": "code",
   "execution_count": null,
   "metadata": {
    "vscode": {
     "languageId": "r"
    }
   },
   "outputs": [],
   "source": [
    "margins(m3, variables = \"xvar2\", at= list(xvar3 = c(0, 25, 90))) "
   ]
  },
  {
   "attachments": {},
   "cell_type": "markdown",
   "metadata": {},
   "source": [
    "We can also directly plot the marginal effects."
   ]
  },
  {
   "cell_type": "code",
   "execution_count": null,
   "metadata": {
    "vscode": {
     "languageId": "r"
    }
   },
   "outputs": [],
   "source": [
    "# dx states the conditional marg effect you want to graph, conditional on the var in x = \n",
    "cplot(m3, x = \"xvar3\", dx = \"xvar2\", what = \"effect\", data = df) "
   ]
  },
  {
   "attachments": {},
   "cell_type": "markdown",
   "metadata": {},
   "source": [
    "That's fine, but let's save the output and graph in ggplot to make it more visually appealing. "
   ]
  },
  {
   "cell_type": "code",
   "execution_count": null,
   "metadata": {
    "vscode": {
     "languageId": "r"
    }
   },
   "outputs": [],
   "source": [
    "# save results in \"out\"\n",
    "out <- cplot(m3, \"xvar3\", dx = \"xvar2\", what = \"effect\", data = df, draw = FALSE)\n",
    "\n",
    "# use out data with ggplot\n",
    "\n",
    "p <- ggplot(data = out, mapping = aes(x = xvals))\n",
    "p + geom_line(mapping = aes(y = yvals),\n",
    "              color = \"black\",\n",
    "              size = 2 ) +\n",
    "    geom_ribbon(aes(ymin = lower, ymax = upper),\n",
    "              color = \"gray40\",\n",
    "              alpha = .2) +\n",
    "    theme_light()\n"
   ]
  }
 ],
 "metadata": {
  "kernelspec": {
   "display_name": "R",
   "language": "R",
   "name": "ir"
  },
  "language_info": {
   "codemirror_mode": "r",
   "file_extension": ".r",
   "mimetype": "text/x-r-source",
   "name": "R",
   "pygments_lexer": "r",
   "version": "4.2.0"
  },
  "orig_nbformat": 4,
  "vscode": {
   "interpreter": {
    "hash": "369f2c481f4da34e4445cda3fffd2e751bd1c4d706f27375911949ba6bb62e1c"
   }
  }
 },
 "nbformat": 4,
 "nbformat_minor": 2
}
