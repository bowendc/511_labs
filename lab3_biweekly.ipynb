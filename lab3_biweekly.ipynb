{
 "cells": [
  {
   "attachments": {},
   "cell_type": "markdown",
   "metadata": {},
   "source": [
    "## Making Compelling Graphical Displays of Information\n",
    "\n",
    "This lab covers the basics of creating graphics in `ggplot()`, a package bundled with `tidyverse`. Here, we walk through a number of different graph types. My goal is to expose you to a range of graphs and graph adjustments that you can use as a template in your projects. \n",
    "\n",
    "The dataset we will use for the lab comes from the New York City Department of Health and Mental Hygenie (DOHMH) and made available on [NYC Open Data portal](https://data.cityofnewyork.us/Health/DOHMH-New-York-City-Restaurant-Inspection-Results/43nn-pn8j/about_data). I have posted a cleaned and subsetted version of these data on my GitHub course repository. We'll ingest this data directly from GitHub."
   ]
  },
  {
   "cell_type": "code",
   "execution_count": 81,
   "metadata": {
    "vscode": {
     "languageId": "r"
    }
   },
   "outputs": [],
   "source": [
    "# Install the required packages if not already installed \n",
    "# By the way, the hashtag/pound/octothorpe symbol will comment out a line in your script\n",
    "\n",
    "#install.packages(c('tidyverse', 'modelsummary'))\n",
    "\n",
    "# let's load your packages in the R session\n",
    "\n",
    "library(tidyverse)\n"
   ]
  },
  {
   "cell_type": "markdown",
   "metadata": {},
   "source": [
    "Now let's load our dataset. You can pull it directly from my GitHub repository using the url and the `read_csv()` function from **tidyverse**. These data are from 2022 - the beginning of 2025. The main outcome variable of interest to us is `SCORE`: which is a numeric rating from the Department of Health summarizing the amount and severity of violations found during the initial restaurant inspection. *Higher scores are worse.* Any score greater than 13 results in a non-A rating and triggers follow-up actions ranging from increased frequency of inspections to restaurant closure. "
   ]
  },
  {
   "cell_type": "code",
   "execution_count": null,
   "metadata": {
    "vscode": {
     "languageId": "r"
    }
   },
   "outputs": [],
   "source": [
    "nyc.inspect <- read_csv(\"https://raw.githubusercontent.com/bowendc/511_labs/refs/heads/main/DOHMH_NYC_inital_restaurant_inspections.csv\")  \n",
    "\n",
    "# take a look at your data frame using view() or by clicking on\n",
    "# the table icon in the Environment window next to the data frame.\n",
    "\n",
    "head(nyc.inspect)"
   ]
  },
  {
   "cell_type": "markdown",
   "metadata": {},
   "source": [
    "## Making Graphs with ggplot2\n",
    "\n",
    "**ggplot2** is an outstanding, albeit somewhat confusing, graphic syntax for R, bundled as part of the **tidyverse**. Let's explore some of the basic plot types and `ggplot()` syntax. "
   ]
  },
  {
   "cell_type": "markdown",
   "metadata": {},
   "source": [
    "### Histograms and density plots\n",
    "\n",
    "Histograms are graphs that present the distribution of a variable measured at the continuous or interval level by grouping the values into \"bins\". "
   ]
  },
  {
   "cell_type": "code",
   "execution_count": null,
   "metadata": {
    "vscode": {
     "languageId": "r"
    }
   },
   "outputs": [],
   "source": [
    "# in base R\n",
    "hist(nyc.inspect$SCORE)\n",
    "\n",
    "# in ggplot\n",
    "# the aes() stands for \"aesthetics\"\n",
    "\n",
    "ggplot(data = nyc.inspect, mapping = aes(x = SCORE)) +\n",
    "    geom_histogram(binwidth = 1)                       # try changing the binwidht"
   ]
  },
  {
   "cell_type": "markdown",
   "metadata": {},
   "source": [
    "Now, let's make it look better by changing the y-axis to a percentage and changing the color of the histogram. "
   ]
  },
  {
   "cell_type": "code",
   "execution_count": null,
   "metadata": {
    "vscode": {
     "languageId": "r"
    }
   },
   "outputs": [],
   "source": [
    "ggplot(nyc.inspect, mapping = aes(x = SCORE)) +\n",
    "  geom_histogram(aes(y =100*( after_stat(count) / sum(after_stat(count)))), binwidth = 1,\n",
    "                  fill = \"navy\")"
   ]
  },
  {
   "cell_type": "markdown",
   "metadata": {},
   "source": [
    "Again, this looks better! Now the y-axis makes sense. However, the y-axis title still is confusing. Let's continue editing by adding titles."
   ]
  },
  {
   "cell_type": "code",
   "execution_count": null,
   "metadata": {
    "vscode": {
     "languageId": "r"
    }
   },
   "outputs": [],
   "source": [
    "# here we take our previous function and add a + at the end of the line,\n",
    "# then including our labs() call. \n",
    "\n",
    "# we can store the graph as an object and add to it later \n",
    "plot1 <- ggplot(nyc.inspect, mapping = aes(x = SCORE)) +\n",
    "  geom_histogram(aes(y =100*( after_stat(count) / sum(after_stat(count)))), binwidth = 1,\n",
    "                  fill = \"navy\") +\n",
    "    labs(title = \"Initial Restaurant Inspection Scores, NYC, 2022-2025\",\n",
    "       x = \"Inspection Score (lower is better)\",\n",
    "       y = \"Percentage\")\n",
    "\n",
    "# type the name to view the plot\n",
    "plot1"
   ]
  },
  {
   "cell_type": "markdown",
   "metadata": {},
   "source": [
    "Finally, let's play with the theme of the plot. `ggplot` themes toggle a range of settings. [Try out a few of these](https://ggplot2.tidyverse.org/reference/ggtheme.html) to see how they look! "
   ]
  },
  {
   "cell_type": "code",
   "execution_count": null,
   "metadata": {
    "vscode": {
     "languageId": "r"
    }
   },
   "outputs": [],
   "source": [
    "# because we stored the graph, all we need to do to add layers in refer to\n",
    "# the named object\n",
    "\n",
    "plot1 + theme_bw()"
   ]
  },
  {
   "cell_type": "markdown",
   "metadata": {},
   "source": [
    "We can present the same graph as smoothed distributions using `geom_density` instead of `geom_histogram`:"
   ]
  },
  {
   "cell_type": "code",
   "execution_count": null,
   "metadata": {
    "vscode": {
     "languageId": "r"
    }
   },
   "outputs": [],
   "source": [
    "\n",
    "# the code is the same here; I just removed the binwidth() argument.\n",
    "\n",
    "ggplot(nyc.inspect, mapping = aes(x = SCORE)) +\n",
    "  geom_density(aes(y =100*( after_stat(count) / sum(after_stat(count)))),\n",
    "                  fill = \"navy\") +\n",
    "    labs(title = \"Initial Restaurant Inspection Scores, NYC, 2022-2025\",\n",
    "       x = \"Inspection Score (lower is better)\",\n",
    "       y = \"Percentage\")"
   ]
  },
  {
   "cell_type": "markdown",
   "metadata": {},
   "source": [
    "What if we wanted to compare the distributions of two variables? Let's add another `geom_histogram` plot to this graph. To improve visability, let's change the opacity of the colors using the argument `alpha`. I'm also going to move the `data` argument into the `geom_histogram` calls so we can filter data. Let's see if SUBWAY restuarant scores differ from the rest of the NYC restuarant scores. To do so, we'll use a couple selection functions useful for when you have text data (known as strings)."
   ]
  },
  {
   "cell_type": "code",
   "execution_count": null,
   "metadata": {
    "vscode": {
     "languageId": "r"
    }
   },
   "outputs": [],
   "source": [
    "# here, we make a new variable named 'subway' which takes a 1 if the name \n",
    "# is equal to \"SUBWAY\" and a 0 otherwise. That's what the ifelse() function \n",
    "# does.\n",
    "\n",
    "# the toupper() function will convert all text to upper-case, just in case\n",
    "# some text in the textfield was lower case.\n",
    "\n",
    "# remember the we need 2 equal signs when testing for equality.\n",
    "nyc.inspect$subway <- ifelse(toupper(nyc.inspect$DBA) == \"SUBWAY\", 1, 0) \n",
    "\n",
    "# did it work?\n",
    "table(nyc.inspect$subway)\n",
    "\n",
    "# of course, we also could have used mutate() to do this too!"
   ]
  },
  {
   "cell_type": "code",
   "execution_count": null,
   "metadata": {
    "vscode": {
     "languageId": "r"
    }
   },
   "outputs": [],
   "source": [
    "# here, we move the data and aes args INSIDE geom_histogram().\n",
    "# that way we can use filter() to subset the data inside the \n",
    "# geom_histogram call. \n",
    "\n",
    "# alpha toggles opacity / transparency. 0 is fully transparent.\n",
    "# 1 is fully opaque.\n",
    "\n",
    "plot2 <- ggplot() +\n",
    "  geom_histogram(nyc.inspect |> filter(subway == 0), \n",
    "                mapping = aes(x = SCORE,\n",
    "                              y =100*( after_stat(count) / sum(after_stat(count)))),\n",
    "                binwidth = 1, fill = \"navy\", alpha = .4) +\n",
    "  geom_histogram(nyc.inspect |> filter(subway == 1), \n",
    "                mapping = aes(x = SCORE,\n",
    "                              y =100*( after_stat(count) / sum(after_stat(count)))),\n",
    "                binwidth = 1, fill = \"gold\", alpha = .4) +\n",
    "    labs(title = \"Initial Restaurant Inspection Scores, NYC, 2022-2025\",\n",
    "       x = \"Inspection Score (lower is better)\",\n",
    "       y = \"Percentage\") + \n",
    "  theme_minimal()\n",
    "\n",
    "plot2"
   ]
  },
  {
   "cell_type": "markdown",
   "metadata": {},
   "source": [
    "Are Subway restaurants doing better or worse than non-Subway restaurants in NYC?"
   ]
  },
  {
   "cell_type": "markdown",
   "metadata": {},
   "source": [
    "We can also add lines and text on to the graph. "
   ]
  },
  {
   "cell_type": "code",
   "execution_count": null,
   "metadata": {
    "vscode": {
     "languageId": "r"
    }
   },
   "outputs": [],
   "source": [
    "# annotate() can add text or shapes to a graph. We specify the location of \n",
    "# the text with the x and y axis arguments. \n",
    "\n",
    "plot3 <- plot2 + \n",
    "  geom_vline(aes(xintercept = 13), color = \"red\", linetype = \"dashed\") +\n",
    "  annotate(\"text\", x = 40, y = 3, label = \"Subway restaurants\", size = 5, color = \"gold\") +\n",
    "  annotate(\"text\", x = 50, y = 2, label = \"All other restaurants\", size = 5, color = \"navy\")\n",
    "\n",
    "plot3"
   ]
  },
  {
   "cell_type": "markdown",
   "metadata": {},
   "source": [
    "We can also repeat a graph over another variable. This is called *faceting* or creating *small multiples*. In `ggplot()` add a `facet_grid` or `facet_wrap` layer to your plot: "
   ]
  },
  {
   "cell_type": "code",
   "execution_count": null,
   "metadata": {
    "vscode": {
     "languageId": "r"
    }
   },
   "outputs": [],
   "source": [
    "# I switched back to plot2 because the text \n",
    "# added in annotate() is outside the range of this graph\n",
    "\n",
    "plot2 + facet_grid(~ BORO) + theme(aspect.ratio = .75)"
   ]
  },
  {
   "cell_type": "markdown",
   "metadata": {},
   "source": [
    "### Boxplots and Violin plots\n",
    "\n",
    "Boxplots show a bunch of information: the median, the inter-quartile range (IQR), and outliers are all presented simply. Boxplots are also handy plots for graphing distributions by a grouping variable. Let's take a inspection scores by NYC boro using `geom_boxplot()`."
   ]
  },
  {
   "cell_type": "code",
   "execution_count": null,
   "metadata": {
    "vscode": {
     "languageId": "r"
    }
   },
   "outputs": [],
   "source": [
    "# in order to access variable name with a space in it, enclose in\n",
    "# `` tick marks. Do not use single quotes! ''. \n",
    "\n",
    "ggplot(nyc.inspect, mapping = aes(y = SCORE, x = `CUISINE DESCRIPTION`)) + \n",
    "  geom_boxplot()\n"
   ]
  },
  {
   "cell_type": "markdown",
   "metadata": {},
   "source": [
    "Yikes. That doesn't look so good. We have way too many categories. Let's select just some of the biggest categories using `filter()` and flip the x and y axes."
   ]
  },
  {
   "cell_type": "code",
   "execution_count": null,
   "metadata": {
    "vscode": {
     "languageId": "r"
    }
   },
   "outputs": [],
   "source": [
    "# first, create a list of cuisines. These are values in `CUISINE DESCRIPTION`\n",
    "cuisines <- c(\"American\", \"Chinese\", \"Pizza\", \"Italian\", \"French\", \"Korean\", \n",
    "                \"Coffee/Tea\", \"Mexian\", \"Thai\", \"Japanese\", \"Indian\",\n",
    "                \"Hamburgers\", \"Hotdogs\", \"Caribbean\", \"Donuts\")\n",
    "\n",
    "# now filter just those observations where `CUISINE DESCRIPTION`\n",
    "# is included in the list we created above. \n",
    "# the filter call basically says: `CUISINE DESCRIPTION` is found in list \"cuisines\"\n",
    "ggplot(nyc.inspect |> filter(`CUISINE DESCRIPTION` %in% cuisines), \n",
    "    mapping = aes(x = SCORE, y = `CUISINE DESCRIPTION`)) + \n",
    "    geom_boxplot()\n",
    "\n",
    "# This looks a lot better if we order the groups by SCORE. We can do that using\n",
    "# the fct_reorder() function below.\n",
    "ggplot(nyc.inspect |> filter(`CUISINE DESCRIPTION` %in% cuisines), \n",
    "    mapping = aes(x = SCORE, y = fct_reorder(`CUISINE DESCRIPTION`, SCORE))) + \n",
    "    geom_boxplot()    "
   ]
  },
  {
   "cell_type": "markdown",
   "metadata": {},
   "source": [
    "Violin plots present similar information as a density plot. "
   ]
  },
  {
   "cell_type": "code",
   "execution_count": null,
   "metadata": {
    "vscode": {
     "languageId": "r"
    }
   },
   "outputs": [],
   "source": [
    "# includes lines at p25, median and p75\n",
    "ggplot(nyc.inspect |> filter(`CUISINE DESCRIPTION` %in% cuisines), \n",
    "    mapping = aes(x = SCORE, y = fct_reorder(`CUISINE DESCRIPTION`, SCORE))) + \n",
    "    geom_violin(draw_quantiles = c(0.25, 0.5, 0.75), fill = \"#229954\") +\n",
    "    labs(y = \"\",\n",
    "         x = \"Distribution of Inspection Scores (lower is better)\") +\n",
    "    theme_minimal()"
   ]
  },
  {
   "cell_type": "markdown",
   "metadata": {},
   "source": [
    "### Loess and Line Graphs\n",
    "\n",
    "Loess plots use locally-weighted regression models to estimated moving averages of your outcome variable over values of some predictor or x variable. There really nice ways of presenting trends of an outcome when you have many cases. \n",
    "\n",
    "Here, let's use `ggplot`'s `geom_smooth()` function to examine the average inspection score over time. Given that loess is computationally demanding, let's just use restaurants in Queens. \n"
   ]
  },
  {
   "cell_type": "code",
   "execution_count": null,
   "metadata": {
    "vscode": {
     "languageId": "r"
    }
   },
   "outputs": [],
   "source": [
    "ggplot(nyc.inspect |> filter(BORO == \"Queens\"), aes(x = inspect.date, y = SCORE)) +\n",
    "    geom_smooth(method = \"loess\")"
   ]
  },
  {
   "cell_type": "markdown",
   "metadata": {},
   "source": [
    "Hmm. That is an interesting trend. I wonder if it is the same across all the NYC boroughs? Instead of using loess for this, let's summarize our data by quarter and present as line graphs. "
   ]
  },
  {
   "cell_type": "code",
   "execution_count": null,
   "metadata": {
    "vscode": {
     "languageId": "r"
    }
   },
   "outputs": [],
   "source": [
    "# let's create our quarterly time variable \n",
    "\n",
    "nyc.inspect <- nyc.inspect |> mutate(quarters = case_when ( \n",
    "                                        inspect.month < 4 ~ 0,\n",
    "                                        inspect.month >= 4 & inspect.month < 7 ~ .25,\n",
    "                                        inspect.month >= 7 & inspect.month < 10 ~ .50,\n",
    "                                        inspect.month >=10 ~ .75,\n",
    "                                        TRUE ~ NA),\n",
    "                                    time = inspect.year + quarters)\n",
    "\n",
    "# now let's group our data by our new time variable and boro and summarize \n",
    "\n",
    "small.df <- nyc.inspect |> group_by(time, BORO) |>\n",
    "                           summarize(mean = mean(SCORE, na.rm = TRUE),\n",
    "                                     sd = sd(SCORE, na.rm = TRUE))\n",
    "\n",
    "head(small.df)\n",
    "\n",
    "# now we can make our line graphs!\n",
    "\n",
    "ggplot(data = small.df, mapping = aes(x = time, y = mean, group = BORO, color = BORO)) + \n",
    "    geom_line() +\n",
    "    geom_point() +\n",
    "    theme_light()"
   ]
  }
 ],
 "metadata": {
  "kernelspec": {
   "display_name": "R",
   "language": "R",
   "name": "ir"
  },
  "language_info": {
   "codemirror_mode": "r",
   "file_extension": ".r",
   "mimetype": "text/x-r-source",
   "name": "R",
   "pygments_lexer": "r",
   "version": "4.4.2"
  },
  "orig_nbformat": 4
 },
 "nbformat": 4,
 "nbformat_minor": 2
}
